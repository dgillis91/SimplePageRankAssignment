{
  "nbformat": 4,
  "nbformat_minor": 0,
  "metadata": {
    "colab": {
      "name": "4300_assignment_four.ipynb",
      "version": "0.3.2",
      "provenance": [],
      "collapsed_sections": [],
      "include_colab_link": true
    },
    "kernelspec": {
      "name": "python3",
      "display_name": "Python 3"
    }
  },
  "cells": [
    {
      "cell_type": "markdown",
      "metadata": {
        "id": "view-in-github",
        "colab_type": "text"
      },
      "source": [
        "<a href=\"https://colab.research.google.com/github/dgillis91/SimplePageRankAssignment/blob/master/4300_assignment_four.ipynb\" target=\"_parent\"><img src=\"https://colab.research.google.com/assets/colab-badge.svg\" alt=\"Open In Colab\"/></a>"
      ]
    },
    {
      "cell_type": "code",
      "metadata": {
        "id": "jizsdWoxxrd3",
        "colab_type": "code",
        "colab": {}
      },
      "source": [
        "import numpy as np"
      ],
      "execution_count": 0,
      "outputs": []
    },
    {
      "cell_type": "markdown",
      "metadata": {
        "id": "lHYBh2NRvMPM",
        "colab_type": "text"
      },
      "source": [
        "For the first set of documents, we have:\n",
        "\n",
        "$PR(A) = \\frac{.3}{3}+.7\\frac{PR(B)}{2}$\n",
        "\n",
        "$PR(B) = \\frac{.3}{3}+.7(PR(A) + PR(B))$\n",
        "\n",
        "$PR(C) = \\frac{.3}{3} + .7(\\frac{PR(B)}{2})$\n",
        "\n",
        "Simplify to get:\n",
        "\n",
        "$PR(A) = \\frac{1}{10}+\\frac{7}{20}PR(B)$\n",
        "\n",
        "$PR(B) = \\frac{1}{10} + \\frac{7}{10}(PR(A) + PR(C))$\n",
        "\n",
        "$PR(C) = \\frac{1}{10} + \\frac{7}{10}PR(B)$\n",
        "\n",
        "Turn into a system of equations. Let $a=PR(A)$, $b=PR(B)$, and $c=PR(C)$.\n",
        "\n",
        "$-a+\\frac{7}{20}b+0c=-\\frac{1}{10}$\n",
        "\n",
        "$\\frac{7}{10}a - b + \\frac{7}{10}c = -\\frac{1}{10}$\n",
        "\n",
        "$0a + \\frac{7}{20}b - c = -\\frac{1}{10}$\n",
        "\n",
        "We get:"
      ]
    },
    {
      "cell_type": "code",
      "metadata": {
        "id": "aM7zlpscvLBD",
        "colab_type": "code",
        "outputId": "dd3637a0-0757-445e-ef4b-4556dd0f8f7a",
        "colab": {
          "base_uri": "https://localhost:8080/",
          "height": 34
        }
      },
      "source": [
        "coefficients = np.array([\n",
        "  [-1, 7/20, 0],\n",
        "  [7/10, -1, 7/10],\n",
        "  [0, 7/20, -1]\n",
        "])\n",
        "\n",
        "eq = np.array([-1/10, -1/10, -1/10])\n",
        "\n",
        "print(np.linalg.solve(coefficients, eq))"
      ],
      "execution_count": 0,
      "outputs": [
        {
          "output_type": "stream",
          "text": [
            "[0.26470588 0.47058824 0.26470588]\n"
          ],
          "name": "stdout"
        }
      ]
    },
    {
      "cell_type": "markdown",
      "metadata": {
        "id": "RPxIuSSP1fR_",
        "colab_type": "text"
      },
      "source": [
        "The second set, with more brevity:\n",
        "\n",
        "$PR(A) = \\frac{.3}{3} + .7\\frac{PR(C)}{2}$\n",
        "\n",
        "$PR(B) = \\frac{.3}{3} + .7PR(A)$\n",
        "\n",
        "$PR(C) = \\frac{.3}{3} + .7 (\\frac{PR(B)}{2} + \\frac{PR(B)}{2})$\n",
        "\n",
        "This yields the following system:\n",
        "\n",
        "$-a + 0b + \\frac{7}{20}c = -\\frac{1}{10}$\n",
        "\n",
        "$\\frac{7}{10}a -b + 0c= -\\frac{1}{10}$\n",
        "\n",
        "$0a + \\frac{7}{10}b - c = -\\frac{1}{10}$"
      ]
    },
    {
      "cell_type": "code",
      "metadata": {
        "id": "Xob3Nhts6CNh",
        "colab_type": "code",
        "outputId": "f0da8947-30cf-4ad3-f316-7a8f1f47b12d",
        "colab": {
          "base_uri": "https://localhost:8080/",
          "height": 34
        }
      },
      "source": [
        "coefficients = np.array([\n",
        "  [-1, 0, 7/20],\n",
        "  [7/10, -1, 0],\n",
        "  [0, 7/10, -1]\n",
        "])\n",
        "\n",
        "eq = np.array([-1/10, -1/10, -1/10])\n",
        "\n",
        "print(np.linalg.solve(coefficients, eq))"
      ],
      "execution_count": 0,
      "outputs": [
        {
          "output_type": "stream",
          "text": [
            "[0.1925166  0.23476162 0.26433313]\n"
          ],
          "name": "stdout"
        }
      ]
    }
  ]
}